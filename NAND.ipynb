{
  "worksheets": [
    {
      "cells": [
        {
          "outputs": [],
          "input": [],
          "metadata": {},
          "cell_type": "code",
          "language": "python",
          "collapsed": false
        },
        {
          "outputs": [
            {
              "html": [
                "<pre style=\"color:slategray;max-height:100px;overflow:hidden\" \n",
                "onclick=\"\n",
                "if (this.style.maxHeight === 'none') \n",
                "    this.style.maxHeight = '100px';\n",
                "else\n",
                "    this.style.maxHeight = 'none'; \n",
                "\">type bit = One | Zero\n",
                "</pre>"
              ],
              "output_type": "pyout",
              "prompt_number": 2,
              "metadata": {}
            },
            {
              "html": [
                "<pre style=\"color:slategray;max-height:100px;overflow:hidden\" \n",
                "onclick=\"\n",
                "if (this.style.maxHeight === 'none') \n",
                "    this.style.maxHeight = '100px';\n",
                "else\n",
                "    this.style.maxHeight = 'none'; \n",
                "\">type varID = string\n",
                "</pre>"
              ],
              "output_type": "pyout",
              "prompt_number": 2,
              "metadata": {}
            },
            {
              "html": [
                "<pre style=\"color:slategray;max-height:100px;overflow:hidden\" \n",
                "onclick=\"\n",
                "if (this.style.maxHeight === 'none') \n",
                "    this.style.maxHeight = '100px';\n",
                "else\n",
                "    this.style.maxHeight = 'none'; \n",
                "\">type com = Nand of varID * varID * varID\n",
                "</pre>"
              ],
              "output_type": "pyout",
              "prompt_number": 2,
              "metadata": {}
            },
            {
              "html": [
                "<pre style=\"color:slategray;max-height:100px;overflow:hidden\" \n",
                "onclick=\"\n",
                "if (this.style.maxHeight === 'none') \n",
                "    this.style.maxHeight = '100px';\n",
                "else\n",
                "    this.style.maxHeight = 'none'; \n",
                "\">type prog = com list\n",
                "</pre>"
              ],
              "output_type": "pyout",
              "prompt_number": 2,
              "metadata": {}
            },
            {
              "html": [
                "<pre style=\"color:slategray;max-height:100px;overflow:hidden\" \n",
                "onclick=\"\n",
                "if (this.style.maxHeight === 'none') \n",
                "    this.style.maxHeight = '100px';\n",
                "else\n",
                "    this.style.maxHeight = 'none'; \n",
                "\">module VarMap :\n",
                "  sig\n",
                "    type key = String.t\n",
                "    type 'a t = 'a Map.Make(String).t\n",
                "    val empty : 'a t\n",
                "    val is_empty : 'a t -&gt; bool\n",
                "    val mem : key -&gt; 'a t -&gt; bool\n",
                "    val add : key -&gt; 'a -&gt; 'a t -&gt; 'a t\n",
                "    val singleton : key -&gt; 'a -&gt; 'a t\n",
                "    val remove : key -&gt; 'a t -&gt; 'a t\n",
                "    val merge :\n",
                "      (key -&gt; 'a option -&gt; 'b option -&gt; 'c option) -&gt; 'a t -&gt; 'b t -&gt; 'c t\n",
                "    val compare : ('a -&gt; 'a -&gt; int) -&gt; 'a t -&gt; 'a t -&gt; int\n",
                "    val equal : ('a -&gt; 'a -&gt; bool) -&gt; 'a t -&gt; 'a t -&gt; bool\n",
                "    val iter : (key -&gt; 'a -&gt; unit) -&gt; 'a t -&gt; unit\n",
                "    val fold : (key -&gt; 'a -&gt; 'b -&gt; 'b) -&gt; 'a t -&gt; 'b -&gt; 'b\n",
                "    val for_all : (key -&gt; 'a -&gt; bool) -&gt; 'a t -&gt; bool\n",
                "    val exists : (key -&gt; 'a -&gt; bool) -&gt; 'a t -&gt; bool\n",
                "    val filter : (key -&gt; 'a -&gt; bool) -&gt; 'a t -&gt; 'a t\n",
                "    val partition : (key -&gt; 'a -&gt; bool) -&gt; 'a t -&gt; 'a t * 'a t\n",
                "    val cardinal : 'a t -&gt; int\n",
                "    val bindings : 'a t -&gt; (key * 'a) list\n",
                "    val min_binding : 'a t -&gt; key * 'a\n",
                "    val max_binding : 'a t -&gt; key * 'a\n",
                "    val choose : 'a t -&gt; key * 'a\n",
                "    val split : key -&gt; 'a t -&gt; 'a t * 'a option * 'a t\n",
                "    val find : key -&gt; 'a t -&gt; 'a\n",
                "    val map : ('a -&gt; 'b) -&gt; 'a t -&gt; 'b t\n",
                "    val mapi : (key -&gt; 'a -&gt; 'b) -&gt; 'a t -&gt; 'b t\n",
                "  end\n",
                "</pre>"
              ],
              "output_type": "pyout",
              "prompt_number": 2,
              "metadata": {}
            },
            {
              "html": [
                "<pre style=\"color:slategray;max-height:100px;overflow:hidden\" \n",
                "onclick=\"\n",
                "if (this.style.maxHeight === 'none') \n",
                "    this.style.maxHeight = '100px';\n",
                "else\n",
                "    this.style.maxHeight = 'none'; \n",
                "\">type store = bit VarMap.t\n",
                "</pre>"
              ],
              "output_type": "pyout",
              "prompt_number": 2,
              "metadata": {}
            },
            {
              "html": [
                "<pre style=\"color:slategray;max-height:100px;overflow:hidden\" \n",
                "onclick=\"\n",
                "if (this.style.maxHeight === 'none') \n",
                "    this.style.maxHeight = '100px';\n",
                "else\n",
                "    this.style.maxHeight = 'none'; \n",
                "\">val nand : bit -&gt; bit -&gt; bit = &lt;fun&gt;\n",
                "</pre>"
              ],
              "output_type": "pyout",
              "prompt_number": 2,
              "metadata": {}
            },
            {
              "html": [
                "<pre style=\"color:slategray;max-height:100px;overflow:hidden\" \n",
                "onclick=\"\n",
                "if (this.style.maxHeight === 'none') \n",
                "    this.style.maxHeight = '100px';\n",
                "else\n",
                "    this.style.maxHeight = 'none'; \n",
                "\">exception Invalid_char of char\n",
                "</pre>"
              ],
              "output_type": "pyout",
              "prompt_number": 2,
              "metadata": {}
            },
            {
              "html": [
                "<pre style=\"color:slategray;max-height:100px;overflow:hidden\" \n",
                "onclick=\"\n",
                "if (this.style.maxHeight === 'none') \n",
                "    this.style.maxHeight = '100px';\n",
                "else\n",
                "    this.style.maxHeight = 'none'; \n",
                "\">val stringOfBit : bit -&gt; string = &lt;fun&gt;\n",
                "</pre>"
              ],
              "output_type": "pyout",
              "prompt_number": 2,
              "metadata": {}
            },
            {
              "html": [
                "<pre style=\"color:slategray;max-height:100px;overflow:hidden\" \n",
                "onclick=\"\n",
                "if (this.style.maxHeight === 'none') \n",
                "    this.style.maxHeight = '100px';\n",
                "else\n",
                "    this.style.maxHeight = 'none'; \n",
                "\">val stringOfCom : com -&gt; string = &lt;fun&gt;\n",
                "</pre>"
              ],
              "output_type": "pyout",
              "prompt_number": 2,
              "metadata": {}
            },
            {
              "html": [
                "<pre style=\"color:slategray;max-height:100px;overflow:hidden\" \n",
                "onclick=\"\n",
                "if (this.style.maxHeight === 'none') \n",
                "    this.style.maxHeight = '100px';\n",
                "else\n",
                "    this.style.maxHeight = 'none'; \n",
                "\">val stringOfProg : prog -&gt; string = &lt;fun&gt;\n",
                "</pre>"
              ],
              "output_type": "pyout",
              "prompt_number": 2,
              "metadata": {}
            },
            {
              "html": [
                "<pre style=\"color:slategray;max-height:100px;overflow:hidden\" \n",
                "onclick=\"\n",
                "if (this.style.maxHeight === 'none') \n",
                "    this.style.maxHeight = '100px';\n",
                "else\n",
                "    this.style.maxHeight = 'none'; \n",
                "\">val extractVal : varID -&gt; store -&gt; bit = &lt;fun&gt;\n",
                "</pre>"
              ],
              "output_type": "pyout",
              "prompt_number": 2,
              "metadata": {}
            },
            {
              "html": [
                "<pre style=\"color:slategray;max-height:100px;overflow:hidden\" \n",
                "onclick=\"\n",
                "if (this.style.maxHeight === 'none') \n",
                "    this.style.maxHeight = '100px';\n",
                "else\n",
                "    this.style.maxHeight = 'none'; \n",
                "\">val printCom : com -&gt; store -&gt; int -&gt; unit = &lt;fun&gt;\n",
                "</pre>"
              ],
              "output_type": "pyout",
              "prompt_number": 2,
              "metadata": {}
            },
            {
              "html": [
                "<pre style=\"color:slategray;max-height:100px;overflow:hidden\" \n",
                "onclick=\"\n",
                "if (this.style.maxHeight === 'none') \n",
                "    this.style.maxHeight = '100px';\n",
                "else\n",
                "    this.style.maxHeight = 'none'; \n",
                "\">exception Bound_variable of varID\n",
                "</pre>"
              ],
              "output_type": "pyout",
              "prompt_number": 2,
              "metadata": {}
            },
            {
              "html": [
                "<pre style=\"color:red;max-height:100px;overflow:hidden\" \n",
                "onclick=\"\n",
                "if (this.style.maxHeight === 'none') \n",
                "    this.style.maxHeight = '100px';\n",
                "else\n",
                "    this.style.maxHeight = 'none'; \n",
                "\">File &quot;[2]&quot;, line 74, characters 18-31:\n",
                "Error: Unbound value storeOfString\n",
                "Characters 2076-2089:\n",
                "     in helpEval p (storeOfString xVals) 1\n",
                "                    ^^^^^^^^^^^^^\n",
                "</pre>"
              ],
              "output_type": "pyout",
              "prompt_number": 2,
              "metadata": {}
            }
          ],
          "input": [
            "(* type for bits *)\n",
            "type bit = One | Zero\n",
            "\n",
            "(* type for variables *)\n",
            "type varID = string\n",
            "\n",
            "  (* type for commands *)\n",
            "  type com = Nand of varID * varID * varID\n",
            "\n",
            "  (* type for a program *)\n",
            "  type prog = com list\n",
            "\n",
            "  (* module for maps from variables *)\n",
            "  module VarMap = Map.Make(String)\n",
            "\n",
            "  type store = bit VarMap.t\n",
            "\n",
            "  (* straightforward NAND function *)\n",
            "  let nand (l: bit) (r: bit) =\n",
            "    match l, r with\n",
            "    | One, One -> Zero\n",
            "    | _ -> One\n",
            "\n",
            "  (* exception for usage of an invalid character *)\n",
            "  exception Invalid_char of char\n",
            "\n",
            "\n",
            "  let stringOfBit (b: bit) : string =\n",
            "    match b with\n",
            "    | Zero -> \"0\"\n",
            "    | One -> \"1\"\n",
            "\n",
            "  \n",
            "\n",
            "  (* returns line representing command*)\n",
            "  let stringOfCom (c: com) =\n",
            "    let Nand(x, y, z) = c in\n",
            "      x^\" := \"^y^\" NAND \"^z\n",
            "\n",
            "  (* returns string representing a program*)\n",
            "  let stringOfProg (p: prog) : string =\n",
            "    (String.concat \"\\n\" (List.map stringOfCom p))^\"\\n\"\n",
            "\n",
            "\n",
            "  (* tries to extract value of variable; if not found, returns Zero, as per\n",
            "     cs121notes.pdf pg. 43 *)\n",
            "  let extractVal (v: varID) (s: store) : bit =\n",
            "    try VarMap.find v s with Not_found -> Zero\n",
            "\n",
            "  let printCom (c: com) (s: store) (i: int) : unit =\n",
            "    let Nand(x, y, z) = c in\n",
            "    let yV, zV = extractVal y s, extractVal z s in\n",
            "    let xV = nand yV zV in\n",
            "    let line = stringOfCom c in\n",
            "      Printf.printf \"Executing step %i: \\\"%s\\\", %s = %s, %s = %s, %s is assigned %s,\\n\"\n",
            "                i line y (stringOfBit yV) z (stringOfBit zV) x (stringOfBit xV)\n",
            "\n",
            "  exception Bound_variable of varID\n",
            "\n",
            "  (* evaluates a program by returning final store *)\n",
            "  let evalProg (p: prog) (xVals: string) (printVals: bool) : store =\n",
            "    let rec helpEval (p: prog) (s: store) (i: int) =\n",
            "      match p with\n",
            "      | [] -> s\n",
            "      | h::t ->\n",
            "        let Nand(x, y, z) = h in\n",
            "          if VarMap.mem x s then\n",
            "            raise (Bound_variable x)\n",
            "          else\n",
            "            let _ = (if printVals then printCom h s i) in\n",
            "            let yVal, zVal = extractVal y s, extractVal z s in\n",
            "            let newVal = nand yVal zVal in\n",
            "              helpEval t (VarMap.add x newVal s) (i + 1)\n",
            "   in helpEval p (storeOfString xVals) 1\n",
            "\n",
            "  \n",
            "\n",
            "  (* given a program and string input, returns string output *)\n",
            "  let evaluate (p: prog) (xVals: string) (print: bool) : string =\n",
            "    evalStore (evalProg p xVals print)\n",
            "\n"
          ],
          "metadata": {},
          "cell_type": "code",
          "prompt_number": 2,
          "language": "python",
          "collapsed": false
        }
      ],
      "metadata": {}
    }
  ],
  "metadata": { "name": "", "language": "ocaml" },
  "nbformat": 3,
  "nbformat_minor": 0
}