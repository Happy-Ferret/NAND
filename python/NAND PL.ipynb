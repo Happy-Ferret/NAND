{
 "cells": [
  {
   "cell_type": "code",
   "execution_count": 155,
   "metadata": {
    "collapsed": true
   },
   "outputs": [],
   "source": [
    "# Evaluates an n-input, m-output NAND program P on input x\n",
    "# P is given in the list of tuples representation\n",
    "def EVAL(n,m,P,x):\n",
    "    s = len(P)    # no. of lines in the program\n",
    "    t = 3*len(P)  # maximum no. of unique labels\n",
    "    avars = [0]*(t*s) # initialize array to 0\n",
    "    for i in range(n): # initalize inputs to x\n",
    "        avars[i*t] = x[i]\n",
    "\n",
    "    for (a,i,b,j,c,k) in P: # evaluate every line of program\n",
    "        avars[i*t+a] = 1-avars[j*t+b]*avars[k*t+c]\n",
    "\n",
    "    #  return y_0...y_(m-1) which is\n",
    "    # avars[1],avars[t+1],...,avars[(m-1)*t+1]\n",
    "    return [avars[i*t+1] for i in range(m)]\n"
   ]
  },
  {
   "cell_type": "code",
   "execution_count": 3,
   "metadata": {
    "collapsed": true
   },
   "outputs": [],
   "source": [
    "# Converts a NAND program from text to the list of tuples representation\n",
    "# Assumes a program where no index is larger than the size of the program\n",
    "def parse(prog):\n",
    "    avars = { 'x':0, 'y':1 , 'validx':2, 'loop':3 } # dictionary of indices of \"workspace\" variables\n",
    "    n = max([int(var[2:]) for var in prog.split() if var[:2]=='x_' ])+1 # no of inputs\n",
    "    m = max([int(var[2:]) for var in prog.split() if var[:2]=='y_' ])+1 # no of outputs\n",
    "\n",
    "    def var_idx(vname): # helper local function to return index of named variable\n",
    "        vname = vname.split('_')\n",
    "        name = vname[0]\n",
    "        idx = int(vname[1]) if len(vname)>1 else 0 \n",
    "        return [avars.setdefault(name,len(avars)),idx]\n",
    "    \n",
    "    result = []\n",
    "    for line in prog.split('\\n'):\n",
    "        if not line or line[0]=='#': continue # ignore empty and commented out lines\n",
    "        (var1,assign,var2,op,var3) = line.split()\n",
    "        result.append(var_idx(var1) + var_idx(var2) + var_idx(var3)) \n",
    "    return (n,m,result)"
   ]
  },
  {
   "cell_type": "code",
   "execution_count": 4,
   "metadata": {
    "collapsed": true
   },
   "outputs": [],
   "source": [
    "# run NAND program prog on input x.\n",
    "# x can be given either as a list of 0/1 values or as a string of 0's and 1's.\n",
    "def run(prog,x):\n",
    "    (n,m,P) = parse(prog)\n",
    "    if isinstance(x, str):\n",
    "        return EVAL(n,m,P,[int(c) for c in x])\n",
    "    return EVAL(n,m,P,x)"
   ]
  },
  {
   "cell_type": "code",
   "execution_count": 5,
   "metadata": {
    "collapsed": true
   },
   "outputs": [],
   "source": [
    "def debug(prog,x):\n",
    "    avars = { 'x':0, 'y':1} # dictionary of indices of \"workspace\" variables\n",
    "    names = { 0:'x', 1:'y'}\n",
    "    n = max([int(var[2:]) for var in prog.split() if var[:2]=='x_' ])+1 # no of inputs\n",
    "    m = max([int(var[2:]) for var in prog.split() if var[:2]=='y_' ])+1 # no of outputs\n",
    "\n",
    "    def var_idx(vname): # helper local function to return index of named variable\n",
    "        vname = vname.split('_')\n",
    "        name = vname[0]\n",
    "        idx = int(vname[1]) if len(vname)>1 else 0 \n",
    "        v = avars.setdefault(name,len(avars))\n",
    "        names[v] = name\n",
    "        return [v,idx]\n",
    "    \n",
    "    result = []\n",
    "    linenum = 0\n",
    "    for line in prog.split('\\n'):\n",
    "        if not line or line[0]=='#': continue # ignore empty and commented out lines\n",
    "        (var1,assign,var2,op,var3) = line.split()\n",
    "        result.append([linenum,line, var_idx(var1) + var_idx(var2) + var_idx(var3)]) \n",
    "        linenum += 1\n",
    "    \n",
    "    if isinstance(x, str):\n",
    "        x = [int(c) for c in x]\n",
    "\n",
    "    vals = [[0]*n , [0]*m] + [[0]*(3*len(result))]*(3*len(result))\n",
    "    vals[0] = x\n",
    "    for [linenum,line,p] in result:\n",
    "        (a,i,b,j,c,k) = p\n",
    "        vals[a][i] = 1-  vals[b][j]*vals[c][k]\n",
    "        log = \"\"\n",
    "        log += \"Executing line \"+str(linenum)+\": \"+line+\"; \"\n",
    "        log += names[b]+\"_\"+str(j)+\"=\"+str(vals[b][j])+\",\"\n",
    "        log += names[c]+\"_\"+str(k)+\"=\"+str(vals[c][k])+\",\"\n",
    "        log += names[a]+\"_\"+str(i)+\" is assigned \"\n",
    "        log += str(vals[a][i])\n",
    "        log += \"=NAND(\"+str(vals[b][j])+\",\"+str(vals[c][k])+\")\"\n",
    "        print(log)\n",
    "\n",
    "    return vals[1]\n",
    "        "
   ]
  },
  {
   "cell_type": "code",
   "execution_count": 6,
   "metadata": {},
   "outputs": [
    {
     "name": "stdout",
     "output_type": "stream",
     "text": [
      "Executing line 0: u   := x_0 NAND x_1; x_0=1,x_1=1,u_0 is assigned 0=NAND(1,1)\n",
      "Executing line 1: v   := x_0 NAND u; x_0=1,u_0=1,v_0 is assigned 1=NAND(1,1)\n",
      "Executing line 2: w   := x_1 NAND u; x_1=1,u_0=0,w_0 is assigned 0=NAND(1,0)\n",
      "Executing line 3: y_0 := v NAND w; v_0=0,w_0=0,y_0 is assigned 1=NAND(0,0)\n",
      "Executing line 4: y_1 := u NAND u; u_0=0,u_0=0,y_1 is assigned 1=NAND(0,0)\n"
     ]
    },
    {
     "data": {
      "text/plain": [
       "[1, 1]"
      ]
     },
     "execution_count": 6,
     "metadata": {},
     "output_type": "execute_result"
    }
   ],
   "source": [
    "prog = r'''\n",
    "u   := x_0 NAND x_1\n",
    "v   := x_0 NAND u\n",
    "w   := x_1 NAND u\n",
    "y_0 := v NAND w\n",
    "y_1 := u NAND u\n",
    "'''\n",
    "\n",
    "debug(prog,\"11\")"
   ]
  },
  {
   "cell_type": "code",
   "execution_count": 34,
   "metadata": {
    "collapsed": true
   },
   "outputs": [],
   "source": [
    "prog= r'''\n",
    "u   := x_0 NAND x_1\n",
    "v   := x_0 NAND u\n",
    "w   := x_1 NAND u\n",
    "y_0 := v   NAND w\n",
    "'''"
   ]
  },
  {
   "cell_type": "code",
   "execution_count": 8,
   "metadata": {},
   "outputs": [
    {
     "name": "stdout",
     "output_type": "stream",
     "text": [
      "Executing line 0: u   := x_0 NAND x_1; x_0=0,x_1=0,u_0 is assigned 1=NAND(0,0)\n",
      "Executing line 1: v   := x_0 NAND u; x_0=0,u_0=1,v_0 is assigned 1=NAND(0,1)\n",
      "Executing line 2: w   := x_1 NAND u; x_1=0,u_0=1,w_0 is assigned 1=NAND(0,1)\n",
      "Executing line 3: y_0 := v   NAND w; v_0=1,w_0=1,y_0 is assigned 0=NAND(1,1)\n"
     ]
    },
    {
     "data": {
      "text/plain": [
       "[0]"
      ]
     },
     "execution_count": 8,
     "metadata": {},
     "output_type": "execute_result"
    }
   ],
   "source": [
    "debug(prog,\"00\")"
   ]
  },
  {
   "cell_type": "code",
   "execution_count": 9,
   "metadata": {},
   "outputs": [
    {
     "data": {
      "text/plain": [
       "(2,\n",
       " 1,\n",
       " [[2, 0, 0, 0, 0, 1],\n",
       "  [3, 0, 0, 0, 2, 0],\n",
       "  [4, 0, 0, 1, 2, 0],\n",
       "  [1, 0, 3, 0, 4, 0]])"
      ]
     },
     "execution_count": 9,
     "metadata": {},
     "output_type": "execute_result"
    }
   ],
   "source": [
    "parse(prog)"
   ]
  },
  {
   "cell_type": "code",
   "execution_count": 156,
   "metadata": {},
   "outputs": [
    {
     "data": {
      "text/plain": [
       "[0]"
      ]
     },
     "execution_count": 156,
     "metadata": {},
     "output_type": "execute_result"
    }
   ],
   "source": [
    "EVAL(2,1,[[2, 0, 0, 0, 0, 1],\n",
    "  [3, 0, 0, 0, 2, 0],\n",
    "  [4, 0, 0, 1, 2, 0],\n",
    "  [1, 0, 3, 0, 4, 0]],[1,1])"
   ]
  },
  {
   "cell_type": "code",
   "execution_count": 11,
   "metadata": {},
   "outputs": [
    {
     "data": {
      "text/plain": [
       "[1]"
      ]
     },
     "execution_count": 11,
     "metadata": {},
     "output_type": "execute_result"
    }
   ],
   "source": [
    "run(prog,\"11\")"
   ]
  },
  {
   "cell_type": "code",
   "execution_count": 12,
   "metadata": {
    "collapsed": true
   },
   "outputs": [],
   "source": [
    "# Converts a NAND++ \n",
    "# Converts a reference to variable var to var_0\n",
    "def parsepp(prog):\n",
    "    vars = {} # dictionary of indices of \"workspace\" variables\n",
    "    \n",
    "    def var_idx(name): # helper local function to return index of named variable\n",
    "        if name[:4]=='loop': return [0,0]\n",
    "        if name[:2]=='x_': return [1,-1 if name[2]=='i' else int(name[2:])]\n",
    "        if name[:4]=='EOI_': return [2,-1 if name[4]=='i' else int(name[4:])]\n",
    "        if name[:2]=='y_': return [3,-1 if name[2]=='i' else int(name[2:])]\n",
    "        vname =  name.split('_')\n",
    "        if len(vname)==1:\n",
    "            idx = 0\n",
    "        elif vname[1]=='i':\n",
    "            idx = -1\n",
    "        else:\n",
    "            idx = int(vname[1])\n",
    "        return [vars.setdefault(vname[0],4+len(vars)),idx]\n",
    "    \n",
    "    result = []\n",
    "    for line in prog.split('\\n'):\n",
    "        if not line or line[0]=='#': \n",
    "            pass # ignore empty and commented out lines\n",
    "        elif line=='i++':\n",
    "            result.append([0])\n",
    "        elif line=='--':\n",
    "            retult.append([1])\n",
    "        else:\n",
    "            (var1,assign,var2,op,var3) = line.split()\n",
    "            result.append(var_idx(var1)+var_idx(var2)+var_idx(var3)) \n",
    "            \n",
    "    return result"
   ]
  },
  {
   "cell_type": "code",
   "execution_count": 13,
   "metadata": {
    "collapsed": true
   },
   "outputs": [],
   "source": [
    "prog = r'''\n",
    "u    := x_i NAND s\n",
    "v    := s   NAND u\n",
    "w    := x_i NAND u\n",
    "s    := v   NAND w\n",
    "i++\n",
    "loop := EOI_i NAND EOI_i\n",
    "ns   := s   NAND s\n",
    "y_0  := ns  NAND ns\n",
    "'''"
   ]
  },
  {
   "cell_type": "code",
   "execution_count": 14,
   "metadata": {},
   "outputs": [
    {
     "data": {
      "text/plain": [
       "[[4, 0, 1, -1, 5, 0],\n",
       " [6, 0, 5, 0, 4, 0],\n",
       " [7, 0, 1, -1, 4, 0],\n",
       " [5, 0, 6, 0, 7, 0],\n",
       " [0],\n",
       " [0, 0, 2, -1, 2, -1],\n",
       " [8, 0, 5, 0, 5, 0],\n",
       " [3, 0, 8, 0, 8, 0]]"
      ]
     },
     "execution_count": 14,
     "metadata": {},
     "output_type": "execute_result"
    }
   ],
   "source": [
    "parsepp(prog)"
   ]
  },
  {
   "cell_type": "code",
   "execution_count": 15,
   "metadata": {
    "collapsed": true
   },
   "outputs": [],
   "source": [
    "\n",
    "# Evaluates a  NAND++ program P on input x\n",
    "# P is given in the list of tuples representation\n",
    "def EVALpp(P,x):\n",
    "    vars = { 0:[0], 1:x } \n",
    "    i = 0\n",
    "    \n",
    "    def getval(var,idx):\n",
    "        if idx==-1: idx = i\n",
    "        if var==2:  return 1 if idx>= len(x) else 0\n",
    "        if var in vars and len(vars[var])>idx:\n",
    "            return vars[var][idx]\n",
    "        return 0\n",
    "    \n",
    "    def setval(var,idx,v):\n",
    "        if not var in vars:\n",
    "            vars[var] = []\n",
    "        if len(vars[var])<= idx:\n",
    "            vars[var].append([0]*(1+idx-len(vars[var])))\n",
    "        vars[var][idx] = v\n",
    "        \n",
    "    while True:\n",
    "        for t in P:\n",
    "            if len(t)==1:\n",
    "                i = max(0,i+(1-2*t[0]))\n",
    "            else: \n",
    "                setval(t[0],t[1], 1-getval(t[2],t[3])*getval(t[4],t[5]))\n",
    "        if not getval(0,0): break \n",
    "            \n",
    "    return vars[3]"
   ]
  },
  {
   "cell_type": "code",
   "execution_count": 16,
   "metadata": {
    "collapsed": true
   },
   "outputs": [],
   "source": [
    "# Evaluates a  NAND++ program P on input x\n",
    "# P is given in the list of tuples representation\n",
    "# (Code is currently buggy)\n",
    "def EVALpp(P,x):\n",
    "    C = max([max(t) for t in P])+1 # max variable index used\n",
    "    vars = [0]*C\n",
    "    nout = [0]\n",
    "    i = 0\n",
    "    \n",
    "    def vidx(var,idx):\n",
    "        if idx==-1: idx = i\n",
    "        v_idx = idx*C+var\n",
    "        if len(vars) <= v_idx:\n",
    "            vars.extend([0]*(1+v_idx-len(vars)))\n",
    "        if var==2 and idx>= len(x):\n",
    "            vars[v_idx] = 1 \n",
    "        if var==3 and idx>nout[0]:\n",
    "            nout[0] = idx\n",
    "        return v_idx\n",
    "        \n",
    "    while True:\n",
    "        for t in P:\n",
    "            if len(t)==1:\n",
    "                i = max(0,i+(1-2*t[0]))\n",
    "            else: \n",
    "                vars[vidx(t[0],t[1])] =  1-vars[vidx(t[2],t[3])]*vars[vidx(t[4],t[5])]\n",
    "        if not vars[0]: break \n",
    "\n",
    "    print(vars)        \n",
    "    return [vars[C*i+3] for i in range(nout[0]+1)]"
   ]
  },
  {
   "cell_type": "code",
   "execution_count": 17,
   "metadata": {},
   "outputs": [
    {
     "name": "stdout",
     "output_type": "stream",
     "text": [
      "[0, 0, 0, 0, 1, 0, 1, 1, 1, 0, 0, 0, 0, 0, 0, 0, 0, 0, 0, 0, 0, 0, 0, 0, 0, 0, 0, 0, 0, 0, 0, 0, 0, 0, 0, 0, 0, 0, 0, 0, 0, 0, 0, 0, 0, 0, 0, 0, 0, 0, 0, 0, 0, 0, 0, 0, 0, 0, 0, 0, 0, 0, 0, 0, 0, 0, 0, 0, 0, 0, 0, 0, 0, 0, 0, 0, 0, 0, 0, 0, 0, 0, 0, 1]\n"
     ]
    },
    {
     "data": {
      "text/plain": [
       "[0]"
      ]
     },
     "execution_count": 17,
     "metadata": {},
     "output_type": "execute_result"
    }
   ],
   "source": [
    "EVALpp([[4, 0, 1, -1, 5, 0], \n",
    "        [6, 0, 5, 0, 4, 0],\n",
    "        [7, 0, 1, -1, 4, 0],\n",
    "        [5, 0, 6, 0, 7, 0],\n",
    "        [0],\n",
    "        [0, 0, 2, -1, 2, -1],\n",
    "        [8, 0, 5, 0, 5, 0],\n",
    "        [3, 0, 8, 0, 8, 0]],\n",
    "       [0,0,1,1,0,0,0,1,0])"
   ]
  },
  {
   "cell_type": "code",
   "execution_count": 18,
   "metadata": {},
   "outputs": [
    {
     "name": "stdout",
     "output_type": "stream",
     "text": [
      "[0, 0, 0, 0, 1, 0, 1, 1, 1]\n"
     ]
    },
    {
     "data": {
      "text/plain": [
       "[0]"
      ]
     },
     "execution_count": 18,
     "metadata": {},
     "output_type": "execute_result"
    }
   ],
   "source": [
    "EVALpp([[4, 0, 1, -1, 5, 0], \n",
    "        [6, 0, 5, 0, 4, 0],\n",
    "        [7, 0, 1, -1, 4, 0],\n",
    "        [5, 0, 6, 0, 7, 0],\n",
    "        [0],\n",
    "        \n",
    "        [8, 0, 5, 0, 5, 0],\n",
    "        [3, 0, 8, 0, 8, 0]],\n",
    "       [0,0,1])"
   ]
  },
  {
   "cell_type": "code",
   "execution_count": 123,
   "metadata": {
    "collapsed": true,
    "scrolled": true
   },
   "outputs": [],
   "source": [
    "import re\n",
    "\n",
    "def tokenize(prog):\n",
    "    \n",
    "    scanner=re.Scanner([\n",
    "      (r\"\\#.*\", None),\n",
    "      (r\"//.*\", None),\n",
    "      (r\"\\{\", lambda scanner,token:(\"OPEN BRACE\",token)),\n",
    "      (r\"\\}\", lambda scanner,token:(\"CLOSE BRACE\",token)),\n",
    "      (r\"\\(\", lambda scanner,token:(\"OPEN PAREN\",token)),\n",
    "      (r\"\\)\", lambda scanner,token:(\"CLOSE PAREN\",token)),\n",
    "      (r\"i\\+\\+\", lambda scanner,token:(\"INC\",token)),\n",
    "      (r\"i\\-\\-\", lambda scanner,token:(\"DEC\",token)),\n",
    "      (r\"i\\>\\>\", lambda scanner,token:(\"HALVE\",token)),\n",
    "      (r\"i\\<\\<\", lambda scanner,token:(\"DOUBLE\",token)),\n",
    "      (r\"i\", lambda scanner,token:(\"INDEX\",token)),\n",
    "      (r\"\\n\", lambda scanner,token:(\"NEWLINE\",token)),  \n",
    "      (r\"[0-9]+\",       lambda scanner,token:(\"INDEX\", token)),\n",
    "      (r\"\\_\",      lambda scanner,token:(\"UNDERSCORE\", token)),  \n",
    "      (r\":=\",        lambda scanner,token:(\"ASSIGN\", token)),\n",
    "      (r\"NAND\",        lambda scanner,token:(\"NAND\", token)),  \n",
    "      (r\"[a-zA-Z']+\",      lambda scanner,token:(\"NAME\", token)),\n",
    "      (r\"\\s+\", None), # None == skip token.\n",
    "    ])\n",
    "    \n",
    "    res = []\n",
    "    for line in prog.split('\\n'):\n",
    "        if not line: continue\n",
    "        temp, remainder=scanner.scan(line)\n",
    "        results = []\n",
    "        for i in range(len(temp)):\n",
    "            results.append(temp[i])\n",
    "            if   temp[i][0]=='NAME' and (i == len(temp)-1 or temp[i+1][0]!='UNDERSCORE'):\n",
    "                results += [('UNDERSCORE','_'),('INDEX','*')]\n",
    "        res.append([line,results])\n",
    "    return res\n",
    "    \n",
    "    \n",
    "#tokenize(prog)"
   ]
  },
  {
   "cell_type": "code",
   "execution_count": 124,
   "metadata": {
    "collapsed": true
   },
   "outputs": [],
   "source": [
    "debug = False\n",
    "debug_str = \"\""
   ]
  },
  {
   "cell_type": "code",
   "execution_count": 125,
   "metadata": {
    "collapsed": true
   },
   "outputs": [],
   "source": [
    "def getval(vdict,name,idx):\n",
    "    global debug    \n",
    "    global debug_str\n",
    "    didx = \"\"\n",
    "    if idx=='i':\n",
    "        nidx=vdict['i']\n",
    "        didx=\"_<i=\"+str(nidx)+\">\"\n",
    "    elif idx=='*':\n",
    "        nidx=0\n",
    "        didx=\"  \"\n",
    "    else:\n",
    "        nidx=int(idx)\n",
    "        didx=\"_\"+str(nidx)\n",
    "    if not name in vdict:\n",
    "        vdict[name] = []\n",
    "    if len(vdict[name])<= nidx:\n",
    "        vdict[name] += [0]*(nidx+1-len(vdict[name]))\n",
    "    val = vdict[name][nidx]\n",
    "    if debug:\n",
    "        debug_str += name+didx+\" = \"+str(val)+\", \"\n",
    "    return val\n",
    "\n",
    "def setval(vdict,name,idx,val):\n",
    "    global debug\n",
    "    global debug_str\n",
    "    didx = \"\"\n",
    "    if idx=='i':\n",
    "        nidx=vdict['i']\n",
    "        didx=\"_<i=\"+str(nidx)+\">\"\n",
    "    elif idx=='*':\n",
    "        nidx=0\n",
    "        didx=\"  \"\n",
    "    else:\n",
    "        nidx=int(idx)\n",
    "        didx=\"_\"+str(nidx)\n",
    "    if not name in vdict:\n",
    "        vdict[name] = []\n",
    "    if len(vdict[name])<= nidx:\n",
    "        vdict[name] += [0]*(nidx+1-len(vdict[name]))\n",
    "    vdict[name][nidx] = val\n",
    "    if debug:\n",
    "        debug_str += name+didx+\" is assigned \"+str(val)+\", \"\n",
    "\n",
    "def modindex(op,vdict):\n",
    "    global debug\n",
    "    global debug_str\n",
    "    i = vdict['i']\n",
    "    pc = vdict['prog_counter']\n",
    "    if debug:\n",
    "        debug_str += 'i changed from '+str(i)+' to '\n",
    "    if op=='INC' and i < pc:\n",
    "        i+=1\n",
    "    elif op=='DEC' and i>0:\n",
    "        i-=1\n",
    "    elif op=='DOUBLE' and i<= pc/2:\n",
    "        i*= 2\n",
    "    elif op=='HALVE':\n",
    "        i = int(i/2)\n",
    "    if debug:\n",
    "        debug_str += str(i)+', '\n",
    "    vdict['i']=i\n",
    "    \n",
    "operations = {\n",
    "('NAME','UNDERSCORE','INDEX','ASSIGN','NAME','UNDERSCORE','INDEX','NAND','NAME','UNDERSCORE','INDEX') : \n",
    "    lambda vdict,l: setval(vdict,l[0],l[2],1-getval(vdict,l[4],l[6])*getval(vdict,l[8],l[10])),\n",
    "('INC','OPEN PAREN','NAME','UNDERSCORE','INDEX','CLOSE PAREN') : \n",
    "    lambda vdict,l: modindex('INC',vdict) if getval(vdict,l[2],l[4]) else 0,\n",
    "    \n",
    "    \n",
    "}"
   ]
  },
  {
   "cell_type": "code",
   "execution_count": null,
   "metadata": {
    "collapsed": true
   },
   "outputs": [],
   "source": []
  },
  {
   "cell_type": "code",
   "execution_count": 126,
   "metadata": {
    "collapsed": true
   },
   "outputs": [],
   "source": [
    "def match(key,tokens):\n",
    "    if len(key) != len(tokens):\n",
    "        return False\n",
    "    for i in range(len(key)):\n",
    "        if key[i] != tokens[i][0]: return False\n",
    "    return True\n",
    "\n",
    "def execute(vdict,tokens):\n",
    "    for k in operations.keys():\n",
    "        if match(k,tokens):\n",
    "            # print(\"INVOKING ON \"+str([t[1] for t in tokens]))\n",
    "            operations[k](vdict,[t[1] for t in tokens])\n",
    "            break\n",
    "        \n",
    "        "
   ]
  },
  {
   "cell_type": "code",
   "execution_count": 127,
   "metadata": {
    "collapsed": true
   },
   "outputs": [],
   "source": [
    "def EVAL(prog,x):\n",
    "    global debug\n",
    "    global debug_str\n",
    "    vdict = { 'i':0, 'loop':[0],'x':x , 'prog_counter':0}\n",
    "    lines = tokenize(prog)\n",
    "    iters = 1\n",
    "    while True:\n",
    "        for (line,tokens) in lines:\n",
    "            if not line or not tokens: continue\n",
    "            vdict['prog_counter'] = vdict['prog_counter']+1\n",
    "            if debug:\n",
    "                debug_str = 'Executing step '+str(vdict['prog_counter'])+': \"'+line+'\"\\t '\n",
    "            execute(vdict,tokens)\n",
    "            if debug:\n",
    "                print(debug_str)\n",
    "        if not vdict['loop'][0]:\n",
    "            break\n",
    "        else:\n",
    "            iters += 1\n",
    "            print(\"Continuing to iteration number \"+str(iters))\n",
    "    if debug:\n",
    "        output = 'Output is '\n",
    "        for i in range(len(vdict['y'])):\n",
    "            output += 'y_'+str(i)+\"=\"+str(vdict['y'][i])+(', ' if i<len(vdict['y'])-1 else '')\n",
    "        print (output) \n",
    "    return vdict['y']\n",
    "            "
   ]
  },
  {
   "cell_type": "code",
   "execution_count": 137,
   "metadata": {
    "scrolled": true
   },
   "outputs": [
    {
     "name": "stdout",
     "output_type": "stream",
     "text": [
      "Executing step 1: \"u   := x_0 NAND x_1\"\t x_0 = 0, x_1 = 1, u   is assigned 1, \n",
      "Executing step 2: \"v   := x_0 NAND u\"\t x_0 = 0, u   = 1, v   is assigned 1, \n",
      "Executing step 3: \"w   := x_1 NAND u\"\t x_1 = 1, u   = 1, w   is assigned 0, \n",
      "Executing step 4: \"y_0 := v NAND w\"\t v   = 1, w   = 0, y_0 is assigned 1, \n",
      "Executing step 5: \"y_1 := u NAND u\"\t u   = 1, u   = 1, y_1 is assigned 0, \n",
      "Output is y_0=1, y_1=0\n"
     ]
    },
    {
     "data": {
      "text/plain": [
       "[1, 0]"
      ]
     },
     "execution_count": 137,
     "metadata": {},
     "output_type": "execute_result"
    }
   ],
   "source": [
    "debug = True\n",
    "prog = r'''\n",
    "u   := x_0 NAND x_1\n",
    "v   := x_0 NAND u\n",
    "w   := x_1 NAND u\n",
    "y_0 := v NAND w\n",
    "y_1 := u NAND u\n",
    "'''\n",
    "\n",
    "EVAL(prog,[0,1])"
   ]
  },
  {
   "cell_type": "code",
   "execution_count": 153,
   "metadata": {
    "collapsed": true
   },
   "outputs": [],
   "source": [
    "prog=r'''\n",
    "// Add a pair of two-bit numbers\n",
    "// Input: (x_0,x_1) and (x_2,x_3)\n",
    "// Output: (y_0,y_1,y_2) representing the sum\n",
    "// x_0 + 2x_1 + x_2 + 2x_3\n",
    "//\n",
    "// Operation:\n",
    "// 1) y_0,c_1 := ADD_1(x_0,x_2):\n",
    "// add the least significant digits\n",
    "// c_1 is the \"carry\"\n",
    "u   := x_0 NAND x_2\n",
    "v   := x_0 NAND u\n",
    "w   := x_2 NAND u\n",
    "y_0 := v NAND w\n",
    "c_1 := u NAND u\n",
    "// 2) z'_1,z_1 := ADD_1(x_1,x_3):\n",
    "// add second digits\n",
    "u   := x_1 NAND x_3\n",
    "v   := x_1 NAND u\n",
    "w   := x_3 NAND u\n",
    "z_1 := v NAND w\n",
    "z'_1 := u NAND u\n",
    "// 3) Take care of carry:\n",
    "// 3a) y_1 = XOR(z_1,c_1)\n",
    "u   := z_1 NAND c_1\n",
    "v   := z_1 NAND u\n",
    "w   := c_1 NAND u\n",
    "y_1 := v   NAND w\n",
    "// 3b) y_2 = z'_1 OR (z_1 AND c_1)\n",
    "//  = NAND(NOT(z'_1), NAND(z_1,c_1))\n",
    "u   := z'_1 NAND z'_1\n",
    "v   := z_1 NAND c_1\n",
    "y_2 := u NAND v\n",
    "'''"
   ]
  },
  {
   "cell_type": "code",
   "execution_count": 154,
   "metadata": {},
   "outputs": [
    {
     "name": "stdout",
     "output_type": "stream",
     "text": [
      "Executing step 1: \"u   := x_0 NAND x_2\"\t x_0 = 0, x_2 = 1, u   is assigned 1, \n",
      "Executing step 2: \"v   := x_0 NAND u\"\t x_0 = 0, u   = 1, v   is assigned 1, \n",
      "Executing step 3: \"w   := x_2 NAND u\"\t x_2 = 1, u   = 1, w   is assigned 0, \n",
      "Executing step 4: \"y_0 := v NAND w\"\t v   = 1, w   = 0, y_0 is assigned 1, \n",
      "Executing step 5: \"c_1 := u NAND u\"\t u   = 1, u   = 1, c_1 is assigned 0, \n",
      "Executing step 6: \"u   := x_1 NAND x_3\"\t x_1 = 1, x_3 = 1, u   is assigned 0, \n",
      "Executing step 7: \"v   := x_1 NAND u\"\t x_1 = 1, u   = 0, v   is assigned 1, \n",
      "Executing step 8: \"w   := x_3 NAND u\"\t x_3 = 1, u   = 0, w   is assigned 1, \n",
      "Executing step 9: \"z_1 := v NAND w\"\t v   = 1, w   = 1, z_1 is assigned 0, \n",
      "Executing step 10: \"z'_1 := u NAND u\"\t u   = 0, u   = 0, z'_1 is assigned 1, \n",
      "Executing step 11: \"u   := z_1 NAND c_1\"\t z_1 = 0, c_1 = 0, u   is assigned 1, \n",
      "Executing step 12: \"v   := z_1 NAND u\"\t z_1 = 0, u   = 1, v   is assigned 1, \n",
      "Executing step 13: \"w   := c_1 NAND u\"\t c_1 = 0, u   = 1, w   is assigned 1, \n",
      "Executing step 14: \"y_1 := v   NAND w\"\t v   = 1, w   = 1, y_1 is assigned 0, \n",
      "Executing step 15: \"u   := z'_1 NAND z'_1\"\t z'_1 = 1, z'_1 = 1, u   is assigned 0, \n",
      "Executing step 16: \"v   := z_1 NAND c_1\"\t z_1 = 0, c_1 = 0, v   is assigned 1, \n",
      "Executing step 17: \"y_2 := u NAND v\"\t u   = 0, v   = 1, y_2 is assigned 1, \n",
      "Output is y_0=1, y_1=0, y_2=1\n"
     ]
    },
    {
     "data": {
      "text/plain": [
       "[1, 0, 1]"
      ]
     },
     "execution_count": 154,
     "metadata": {},
     "output_type": "execute_result"
    }
   ],
   "source": [
    "EVAL(prog,[0,1,1,1])"
   ]
  },
  {
   "cell_type": "code",
   "execution_count": 150,
   "metadata": {},
   "outputs": [
    {
     "name": "stdout",
     "output_type": "stream",
     "text": [
      "Executing step 1: \"nx_2 := x_2 NAND x_2\"\t x_2 = 1, x_2 = 1, nx_2 is assigned 0, \n",
      "Executing step 2: \"u    := x_0 NAND nx_2\"\t x_0 = 1, nx_2 = 0, u   is assigned 1, \n",
      "Executing step 3: \"v    := x_1 NAND x_2\"\t x_1 = 1, x_2 = 1, v   is assigned 0, \n",
      "Executing step 4: \"y_0  := u   NAND v   \"\t u   = 1, v   = 0, y_0 is assigned 1, \n",
      "Output is y_0=1\n"
     ]
    },
    {
     "data": {
      "text/plain": [
       "[1]"
      ]
     },
     "execution_count": 150,
     "metadata": {},
     "output_type": "execute_result"
    }
   ],
   "source": [
    "prog=r'''\n",
    "nx_2 := x_2 NAND x_2\n",
    "u    := x_0 NAND nx_2\n",
    "v    := x_1 NAND x_2\n",
    "y_0  := u   NAND v   \n",
    "'''\n",
    "\n",
    "EVAL(prog,[1,1,1])"
   ]
  },
  {
   "cell_type": "code",
   "execution_count": 8,
   "metadata": {
    "collapsed": true
   },
   "outputs": [],
   "source": [
    "import math\n",
    "def solve_eq(b,c):\n",
    "    # return solution of x^2 + bx = c using Al Kharizmi's instructions\n",
    "    val1 = b/2.0 # halve the number of the roots\n",
    "    val2 = val1*val1 # this you multiply by itself\n",
    "    val3 = val2 + c # Add this to thirty-nine (c)\n",
    "    val4 = math.sqrt(val3) # take the root of this\n",
    "    val5 = val4 - val1 # subtract from it half the number of roots\n",
    "    return val5  # This is the root of the square which you sought for"
   ]
  },
  {
   "cell_type": "code",
   "execution_count": 9,
   "metadata": {},
   "outputs": [
    {
     "data": {
      "text/plain": [
       "3.0"
      ]
     },
     "execution_count": 9,
     "metadata": {},
     "output_type": "execute_result"
    }
   ],
   "source": [
    "solve_eq(10,39)"
   ]
  },
  {
   "cell_type": "code",
   "execution_count": 38,
   "metadata": {},
   "outputs": [
    {
     "data": {
      "text/plain": [
       "[(0, 0, 0, 0),\n",
       " (1, 0, 1, 1),\n",
       " (2, 1, 0, 0),\n",
       " (3, 1, 1, 1),\n",
       " (4, 1, 2, 2),\n",
       " (5, 1, 3, 1),\n",
       " (6, 2, 0, 0),\n",
       " (7, 2, 1, 1),\n",
       " (8, 2, 2, 2),\n",
       " (9, 2, 3, 3),\n",
       " (10, 2, 4, 2),\n",
       " (11, 2, 5, 1),\n",
       " (12, 3, 0, 0),\n",
       " (13, 3, 1, 1),\n",
       " (14, 3, 2, 2),\n",
       " (15, 3, 3, 3),\n",
       " (16, 3, 4, 4),\n",
       " (17, 3, 5, 3),\n",
       " (18, 3, 6, 2),\n",
       " (19, 3, 7, 1)]"
      ]
     },
     "execution_count": 38,
     "metadata": {},
     "output_type": "execute_result"
    }
   ],
   "source": [
    "def index(prog_counter):\n",
    "    r = math.floor(math.sqrt(prog_counter+0.25)-0.5)\n",
    "    s = prog_counter - r*(r+1)\n",
    "    i = s if s <= r+1 else 2*(r+1)-s\n",
    "    return (prog_counter,r,s,i)\n",
    "\n",
    "[index(pc) for pc in range(0,20)]"
   ]
  },
  {
   "cell_type": "code",
   "execution_count": 23,
   "metadata": {},
   "outputs": [
    {
     "data": {
      "text/plain": [
       "1"
      ]
     },
     "execution_count": 23,
     "metadata": {},
     "output_type": "execute_result"
    }
   ],
   "source": [
    "def XOR(a,b):\n",
    "    return (a+b) % 2\n",
    "\n",
    "def parity(x):\n",
    "    seen = [0]*len(x)\n",
    "    prog_counter = 1\n",
    "    i = 0\n",
    "    s = 0\n",
    "    while i<len(x):\n",
    "        val = x[i] & (seen[i]==0) \n",
    "        s = (s+val) % 2\n",
    "        seen[i]=1\n",
    "        r = math.floor(math.sqrt(prog_counter-0.25)-0.5)\n",
    "        if prog_counter - r*(r+1) > r+1:\n",
    "            i = i-1\n",
    "        else:\n",
    "            i = i+1\n",
    "        prog_counter = prog_counter+1\n",
    "    return s\n",
    "\n",
    "parity([1,0,1,1])"
   ]
  },
  {
   "cell_type": "code",
   "execution_count": 18,
   "metadata": {},
   "outputs": [
    {
     "data": {
      "text/plain": [
       "[0, 1, 0, 1, 2, 1, 0, 1, 2, 3, 2, 1, 0, 1, 2, 3]"
      ]
     },
     "execution_count": 18,
     "metadata": {},
     "output_type": "execute_result"
    }
   ],
   "source": [
    "indices"
   ]
  },
  {
   "cell_type": "code",
   "execution_count": 19,
   "metadata": {},
   "outputs": [
    {
     "data": {
      "text/plain": [
       "[1, 1, 0, 0, 1, 1, 0, 0, 1, 0, 1, 1, 0, 0, 1, 0]"
      ]
     },
     "execution_count": 19,
     "metadata": {},
     "output_type": "execute_result"
    }
   ],
   "source": [
    "running_sum"
   ]
  },
  {
   "cell_type": "code",
   "execution_count": 1,
   "metadata": {},
   "outputs": [
    {
     "data": {
      "text/plain": [
       "42"
      ]
     },
     "execution_count": 1,
     "metadata": {},
     "output_type": "execute_result"
    }
   ],
   "source": [
    "2+4+6+8+10+12"
   ]
  },
  {
   "cell_type": "code",
   "execution_count": 16,
   "metadata": {
    "collapsed": true
   },
   "outputs": [],
   "source": [
    "# Transforms a NAND program to a C function\n",
    "# prog: string of program code\n",
    "# n: number of inputs\n",
    "# m: number of outputs\n",
    "def nand2C(prog,n,m):\n",
    "    avars = { } # dictionary of indices of \"workspace\" variables\n",
    "    for i in range(n):\n",
    "        avars['x_'+str(i)] = i\n",
    "    for j in range(m):\n",
    "        avars['y_'+str(j)] = n+j\n",
    "    \n",
    "    def var_idx(vname): # helper local function to return index of named variable\n",
    "        vname = vname.split('_')\n",
    "        name = vname[0]\n",
    "        idx = int(vname[1]) if len(vname)>1 else 0 \n",
    "        return avars.setdefault(name+'_'+str(idx),len(avars))\n",
    "    \n",
    "    main = \"\\n\"\n",
    "    \n",
    "    for line in prog.split('\\n'):\n",
    "        if not line or line[0]=='#' or line[0]=='//': continue # ignore empty and commented out lines\n",
    "        (var1,assign,var2,op,var3) = line.split()\n",
    "        main += '    setbit(vars,{idx1}, ~(getbit(vars,{idx2}) & (getbit(vars,{idx2}));\\n'.format(\n",
    "            idx1= var_idx(var1), idx2 = var_idx(var2), idx3 = var_idx(var3))\n",
    "    \n",
    "    Cprog = '''\n",
    "    #include <stdbool.h>\n",
    "    \n",
    "    typedef unsigned long bfield_t[ (sizeof(long)-1+{numvars})/sizeof(long) ];\n",
    "    // From Stackoverflow answer https://stackoverflow.com/questions/2525310/how-to-define-and-work-with-an-array-of-bits-in-c\n",
    "    // long because that's probably what your cpu is best at\n",
    "    // The size_needed should be evenly divisable by sizeof(long) or\n",
    "    // you could (sizeof(long)-1+size_needed)/sizeof(long) to force it to round up\n",
    "    \n",
    "    unsigned long getval(bfield_t vars, int idx) {{\n",
    "        return 1 & (vars[idx / (8 * sizeof(long) )] >> (idx % (8 * sizeof(long)))); \n",
    "    }}\n",
    "    \n",
    "    void setval(bfield_t vars, int idx, unsigned long v) {{\n",
    "        vars[idx / (8 * sizeof(long) )] = ((vars[idx / (8 * sizeof(long) )] & ~(1<<b)) | (v<<b); \n",
    "    }}\n",
    "    \n",
    "    unsigned long int *eval(unsigned long int *x) {{\n",
    "       bfield_t vars = {{0}};\n",
    "       int i;\n",
    "       int j;\n",
    "       unsigned long int y[{m}] = {{0}};\n",
    "       for(i=0;i<{n};++i) {{\n",
    "           setval(vars,i,x[i])\n",
    "       }}\n",
    "    '''.format(n=n,m=m,numvars=len(avars))\n",
    "    \n",
    "    Cprog = Cprog + main +  '''\n",
    "        for(j=0;j<{m};++j) {{\n",
    "           y[j] = getval(vars,{n}+j)\n",
    "       }}\n",
    "       return y;\n",
    "    }}\n",
    "    '''.format(n=n,m=m)\n",
    "\n",
    "    return Cprog\n"
   ]
  },
  {
   "cell_type": "code",
   "execution_count": 17,
   "metadata": {},
   "outputs": [
    {
     "name": "stdout",
     "output_type": "stream",
     "text": [
      "\n",
      "    #include <stdbool.h>\n",
      "    \n",
      "    typedef unsigned long bfield_t[ (sizeof(long)-1+7)/sizeof(long) ];\n",
      "    // From Stackoverflow answer https://stackoverflow.com/questions/2525310/how-to-define-and-work-with-an-array-of-bits-in-c\n",
      "    // long because that's probably what your cpu is best at\n",
      "    // The size_needed should be evenly divisable by sizeof(long) or\n",
      "    // you could (sizeof(long)-1+size_needed)/sizeof(long) to force it to round up\n",
      "    \n",
      "    unsigned long getval(bfield_t vars, int idx) {\n",
      "        return 1 & (vars[idx / (8 * sizeof(long) )] >> (idx % (8 * sizeof(long)))); \n",
      "    }\n",
      "    \n",
      "    void setval(bfield_t vars, int idx, unsigned long v) {\n",
      "        vars[idx / (8 * sizeof(long) )] = ((vars[idx / (8 * sizeof(long) )] & ~(1<<b)) | (v<<b); \n",
      "    }\n",
      "    \n",
      "    unsigned long int *eval(unsigned long int *x) {\n",
      "       bfield_t vars = {0};\n",
      "       int i;\n",
      "       int j;\n",
      "       unsigned long int y[1] = {0};\n",
      "       for(i=0;i<3;++i) {\n",
      "           setval(vars,i,x[i])\n",
      "       }\n",
      "    \n",
      "        setbit(vars,4, ~(getbit(vars,2) & (getbit(vars,2));\n",
      "        setbit(vars,5, ~(getbit(vars,0) & (getbit(vars,0));\n",
      "        setbit(vars,6, ~(getbit(vars,1) & (getbit(vars,1));\n",
      "        setbit(vars,3, ~(getbit(vars,5) & (getbit(vars,5));\n",
      "\n",
      "        for(j=0;j<1;++j) {\n",
      "           y[j] = getval(vars,3+j)\n",
      "       }\n",
      "       return y;\n",
      "    }\n",
      "    \n"
     ]
    }
   ],
   "source": [
    "prog=r'''\n",
    "nx_2 := x_2 NAND x_2\n",
    "u    := x_0 NAND nx_2\n",
    "v    := x_1 NAND x_2\n",
    "y_0  := u   NAND v   \n",
    "'''\n",
    "\n",
    "print(nand2C(prog,3,1))"
   ]
  },
  {
   "cell_type": "code",
   "execution_count": null,
   "metadata": {
    "collapsed": true
   },
   "outputs": [],
   "source": []
  }
 ],
 "metadata": {
  "anaconda-cloud": {},
  "kernelspec": {
   "display_name": "Python 3",
   "language": "python",
   "name": "python3"
  },
  "language_info": {
   "codemirror_mode": {
    "name": "ipython",
    "version": 3
   },
   "file_extension": ".py",
   "mimetype": "text/x-python",
   "name": "python",
   "nbconvert_exporter": "python",
   "pygments_lexer": "ipython3",
   "version": "3.6.1"
  }
 },
 "nbformat": 4,
 "nbformat_minor": 2
}
